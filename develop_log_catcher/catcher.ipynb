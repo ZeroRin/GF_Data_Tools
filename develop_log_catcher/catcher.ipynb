{
 "cells": [
  {
   "cell_type": "code",
   "execution_count": 1,
   "metadata": {},
   "outputs": [
    {
     "data": {
      "text/plain": [
       "{'uid': '3845387',\n",
       " 'sign': '2864f64a601157ed46eb82d20ffbc432',\n",
       " 'is_username_exist': True,\n",
       " 'real_name': 0,\n",
       " 'authentication_url': 'http://realauth.ucenter.ppgame.com/authoriz.html?appid={0}&openid={1}&accounttype=1&language=zh',\n",
       " 'tc_order_retry': 0}"
      ]
     },
     "execution_count": 1,
     "metadata": {},
     "output_type": "execute_result"
    }
   ],
   "source": [
    "from gf_utils.crypto import request_decode,request_encode\n",
    "import json\n",
    "\n",
    "src = '#fmUL1cPkYTdVDaqlZphdyanH5mbyRrvMaTznarYZD3QtVc7Pru4Omt+gcbv8f0Wi0JFnL/AFiz4mUTEZoWyAj3y9tF63cPSf7N4rkO4eCLUPHqoY9qEZbYITZL+/9F1JWbOGC5TNAgkkZwLc4sAjfhistCBufMXKAAAEZEbkfz6qsBZmI2RBqitXKxHtKxHo3h/1l20+qNFkzgeFKkmguYmm0AQoa5Ba/HtRjvapYIkuXCjLxdPssqh9gvMJEWODeRrl1oftV0VvQV2l5qaFxjb3HeW7EBzKeIfQ1LA+NyZITEbu83+A4g'\n",
    "user=json.loads(request_decode(src))\n",
    "user\n"
   ]
  },
  {
   "cell_type": "code",
   "execution_count": 6,
   "metadata": {},
   "outputs": [
    {
     "name": "stdout",
     "output_type": "stream",
     "text": [
      "http://gfcn-game.gw.merge.sunborngame.com/index.php/1000/Gun/developLog?uid=3845387&outdatacode=W40D37HPBuHRfra%2FPvMIIr%2B9AC%2FT86IHgVSlrBiEGWSx0nvZ9qbRlQ%3D%3D&req_id=165784485500001\n"
     ]
    },
    {
     "data": {
      "text/plain": [
       "7"
      ]
     },
     "execution_count": 6,
     "metadata": {},
     "output_type": "execute_result"
    }
   ],
   "source": [
    "from gf_utils.crypto import *\n",
    "import time\n",
    "from urllib import parse,request\n",
    "\n",
    "url=r'http://gfcn-game.gw.merge.sunborngame.com/index.php/1000/Gun/developLog'\n",
    "code='{\"dev_type\":0}'\n",
    "data=f\"uid={user['uid']}&\"+f\"outdatacode={parse.quote(request_encode(code,user['sign']),safe='')}&\"+f\"req_id={int(time.time())}00001\"\n",
    "print(url+'?'+data)\n",
    "resp = request.urlopen(url,data=data.encode('utf-8'))\n",
    "ret=resp.read()\n",
    "len(ret)\n",
    "# request_encode('{\"dev_type\":0}',user['sign'],expire='1657811594')"
   ]
  },
  {
   "cell_type": "code",
   "execution_count": 143,
   "metadata": {},
   "outputs": [
    {
     "data": {
      "text/plain": [
       "'tzIX9h8VjkeaY%2Be6mut8T%2FVEJeoOJYC3RIrG9vek7w7CdE2vvCoCqA%3D%3D'"
      ]
     },
     "execution_count": 143,
     "metadata": {},
     "output_type": "execute_result"
    }
   ],
   "source": [
    "code='{\"dev_type\":0}'\n",
    "parse.quote(request_encode(code,user['sign'],expire='1657845220'),safe='')"
   ]
  },
  {
   "cell_type": "code",
   "execution_count": 140,
   "metadata": {},
   "outputs": [
    {
     "data": {
      "text/plain": [
       "b'16578452207218e85d213f7b16{\"dev_type\":0}'"
      ]
     },
     "execution_count": 140,
     "metadata": {},
     "output_type": "execute_result"
    }
   ],
   "source": [
    "# src='EQTNPZJCPq130whxU0t%2bHM4xMzJwlTVz2tuz4Qff6wuS9e%2biZ21KDT6Pc61tqoymeJvs7IT5tRWgug%3d%3d'\n",
    "src='tzIX9h8VjkeaY%2be6mut8T%2fVEJeoOJYC3RIrG9vek7w7CdE2vvCoCqA%3d%3d'\n",
    "    'tzIX9h8VjkeaY%2Be6mut8T%2FVEJeoOJYC3RIrG9vek7w7CdE2vvCoCqA%3D%3D'\n",
    "request_decode(parse.unquote(src),user['sign'])"
   ]
  },
  {
   "cell_type": "code",
   "execution_count": 120,
   "metadata": {},
   "outputs": [
    {
     "data": {
      "text/plain": [
       "{'uid': '3845387',\n",
       " 'sign': '555bd4cf23a423ec3caf499c18a544cf',\n",
       " 'is_username_exist': True,\n",
       " 'real_name': 0,\n",
       " 'authentication_url': 'http://realauth.ucenter.ppgame.com/authoriz.html?appid={0}&openid={1}&accounttype=1&language=zh',\n",
       " 'tc_order_retry': 0}"
      ]
     },
     "execution_count": 120,
     "metadata": {},
     "output_type": "execute_result"
    }
   ],
   "source": [
    "user"
   ]
  },
  {
   "cell_type": "code",
   "execution_count": 144,
   "metadata": {},
   "outputs": [
    {
     "name": "stdout",
     "output_type": "stream",
     "text": [
      "07:44:10 46568\n",
      "07:49:11 46568\n",
      "07:54:12 46568\n",
      "07:59:13 46568\n",
      "08:04:13 46568\n"
     ]
    },
    {
     "ename": "KeyboardInterrupt",
     "evalue": "",
     "output_type": "error",
     "traceback": [
      "\u001b[1;31m---------------------------------------------------------------------------\u001b[0m",
      "\u001b[1;31mKeyboardInterrupt\u001b[0m                         Traceback (most recent call last)",
      "\u001b[1;32md:\\Workspace\\gfline\\GF_Data_Tools\\develop_log_catcher\\catcher.ipynb Cell 6\u001b[0m in \u001b[0;36m<cell line: 6>\u001b[1;34m()\u001b[0m\n\u001b[0;32m     <a href='vscode-notebook-cell:/d%3A/Workspace/gfline/GF_Data_Tools/develop_log_catcher/catcher.ipynb#ch0000003?line=12'>13</a>\u001b[0m     \u001b[39mprint\u001b[39m(timestr,e)\n\u001b[0;32m     <a href='vscode-notebook-cell:/d%3A/Workspace/gfline/GF_Data_Tools/develop_log_catcher/catcher.ipynb#ch0000003?line=13'>14</a>\u001b[0m \u001b[39mfor\u001b[39;00m _ \u001b[39min\u001b[39;00m \u001b[39mrange\u001b[39m(\u001b[39m300\u001b[39m):\n\u001b[1;32m---> <a href='vscode-notebook-cell:/d%3A/Workspace/gfline/GF_Data_Tools/develop_log_catcher/catcher.ipynb#ch0000003?line=14'>15</a>\u001b[0m     time\u001b[39m.\u001b[39;49msleep(\u001b[39m1\u001b[39;49m)\n",
      "\u001b[1;31mKeyboardInterrupt\u001b[0m: "
     ]
    }
   ],
   "source": [
    "from urllib import request\n",
    "import time\n",
    "from datetime import datetime\n",
    "url=r'https://sn-game.txwy.tw/index.php/1001/Gun/developLog?'\n",
    "data=r'uid=753332&outdatacode=tzIX9h8Vjk2ZYuG4mucsRPQZdOgMe9PlFN%2fG9vek7w7CdE2vvCoDqA%3d%3d&req_id=165784157700013'\n",
    "while True:\n",
    "    timestr=datetime.now().strftime('%H:%M:%S')\n",
    "    url=r'http://gfcn-game.gw.merge.sunborngame.com/index.php/1000/Gun/developLog'\n",
    "    code='{\"dev_type\":0}'\n",
    "    data=f\"uid={user['uid']}&\"+f\"outdatacode={parse.quote(request_encode(code,user['sign']),safe='')}&\"+f\"req_id={int(time.time())}00001\"\n",
    "    print(url+'?'+data)\n",
    "    try:\n",
    "        resp = request.urlopen(url,data=data.encode('utf-8'))\n",
    "        ret=resp.read()\n",
    "        len(ret)\n",
    "    except ... as e:\n",
    "        print(timestr,e)\n",
    "    for _ in range(300):\n",
    "        time.sleep(1)\n",
    "# resp=request.urlopen(url)\n",
    "# ret = resp.read()\n",
    "# len(ret)"
   ]
  },
  {
   "cell_type": "code",
   "execution_count": 93,
   "metadata": {},
   "outputs": [
    {
     "data": {
      "text/plain": [
       "{'uid': '3845387',\n",
       " 'sign': '821b661d6ca913560323af04e1338ce3',\n",
       " 'is_username_exist': True,\n",
       " 'real_name': 0,\n",
       " 'authentication_url': 'http://realauth.ucenter.ppgame.com/authoriz.html?appid={0}&openid={1}&accounttype=1&language=zh',\n",
       " 'tc_order_retry': 0}"
      ]
     },
     "execution_count": 93,
     "metadata": {},
     "output_type": "execute_result"
    }
   ],
   "source": [
    "user"
   ]
  },
  {
   "cell_type": "code",
   "execution_count": null,
   "metadata": {},
   "outputs": [
    {
     "data": {
      "text/plain": [
       "158.81190061569214"
      ]
     },
     "execution_count": 94,
     "metadata": {},
     "output_type": "execute_result"
    }
   ],
   "source": [
    "time.time()"
   ]
  },
  {
   "cell_type": "code",
   "execution_count": 61,
   "metadata": {},
   "outputs": [
    {
     "data": {
      "text/plain": [
       "-5191"
      ]
     },
     "execution_count": 61,
     "metadata": {},
     "output_type": "execute_result"
    }
   ],
   "source": [
    "1657806531\n",
    "1657811722"
   ]
  },
  {
   "cell_type": "code",
   "execution_count": 64,
   "metadata": {},
   "outputs": [
    {
     "data": {
      "text/plain": [
       "1657807092.0618258"
      ]
     },
     "execution_count": 64,
     "metadata": {},
     "output_type": "execute_result"
    }
   ],
   "source": [
    "time.time()-5000"
   ]
  },
  {
   "cell_type": "code",
   "execution_count": 73,
   "metadata": {},
   "outputs": [
    {
     "data": {
      "text/plain": [
       "3417.4818601608276"
      ]
     },
     "execution_count": 73,
     "metadata": {},
     "output_type": "execute_result"
    }
   ],
   "source": [
    "1657815805-time.time()"
   ]
  },
  {
   "cell_type": "code",
   "execution_count": null,
   "metadata": {},
   "outputs": [],
   "source": []
  }
 ],
 "metadata": {
  "kernelspec": {
   "display_name": "Python 3.10.4 ('gfl')",
   "language": "python",
   "name": "python3"
  },
  "language_info": {
   "codemirror_mode": {
    "name": "ipython",
    "version": 3
   },
   "file_extension": ".py",
   "mimetype": "text/x-python",
   "name": "python",
   "nbconvert_exporter": "python",
   "pygments_lexer": "ipython3",
   "version": "3.10.4"
  },
  "orig_nbformat": 4,
  "vscode": {
   "interpreter": {
    "hash": "97eea6b11248b102bcbf7554d7842bf6701433908d77d02fabdf93442b22c58a"
   }
  }
 },
 "nbformat": 4,
 "nbformat_minor": 2
}
